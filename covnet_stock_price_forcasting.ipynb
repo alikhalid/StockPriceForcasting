{
 "cells": [
  {
   "cell_type": "code",
   "execution_count": 1,
   "id": "86cbb702-3684-456a-ae9e-95436bee3f01",
   "metadata": {},
   "outputs": [],
   "source": [
    "import os\n",
    "import sys\n",
    "import numpy as np\n",
    "import pandas as pd\n",
    "import yfinance as yf\n",
    "import matplotlib.pyplot as plt\n",
    "\n",
    "from pathlib import Path\n",
    "from datetime import datetime\n",
    "\n",
    "import torch\n",
    "import torch.nn as nn\n",
    "import torch.optim as optim\n",
    "import torch.nn.functional as F\n",
    "from torchvision import datasets, transforms\n",
    "from torch.utils.data import DataLoader, TensorDataset, Dataset\n",
    "from torch.utils.tensorboard import SummaryWriter"
   ]
  },
  {
   "cell_type": "markdown",
   "id": "636f3ef2-b3d8-4835-8aba-86b373ef6378",
   "metadata": {},
   "source": [
    "## Settings"
   ]
  },
  {
   "cell_type": "code",
   "execution_count": 2,
   "id": "9ab8a057-3aec-4b43-895b-bdafead69fd0",
   "metadata": {},
   "outputs": [],
   "source": [
    "batch_size = 1\n",
    "test_batch_size = 1\n",
    "epochs = 4000\n",
    "lr = 0.005\n",
    "try_cuda = True\n",
    "seed = 1000\n",
    "logging_interval = 100 # how many batches to wait before logging\n",
    "\n",
    "\n",
    "if torch.cuda.is_available() and try_cuda:\n",
    "    cuda = True\n",
    "    torch.cuda.mnaual_seed(seed)\n",
    "else:\n",
    "    cuda = False\n",
    "    torch.manual_seed(seed)\n",
    "\n",
    "\n",
    "writer = SummaryWriter(log_dir=f\"runs/{datetime.now().strftime('%Y%m%d_%H%M%S')}\")"
   ]
  },
  {
   "cell_type": "markdown",
   "id": "b3ea1c8b-4640-4aa4-b7e8-b8e74c48f629",
   "metadata": {},
   "source": [
    "## Data"
   ]
  },
  {
   "cell_type": "code",
   "execution_count": 3,
   "id": "8c395d72-7dbf-4255-8301-161b3e5de050",
   "metadata": {},
   "outputs": [],
   "source": [
    "tickers = [\"AAPL\", \"NVDA\", \"AMD\"]\n",
    "\n",
    "def load_data(ticker):\n",
    "    ticker = yf.Ticker(ticker)\n",
    "    historical_data = ticker.history(period=\"10y\")\n",
    "    return (np.array(historical_data.Close) - np.array(historical_data.Open)) / np.array(historical_data.Open), np.array(historical_data.Volume) / historical_data.Volume.mean()\n",
    "\n",
    "\n",
    "data = np.zeros((len(tickers), 2517))\n",
    "\n",
    "for t, ticker in enumerate(tickers):\n",
    "    returns, vol = load_data(ticker)\n",
    "    data[t, :] = returns\n",
    "\n",
    "train_points = 2000\n",
    "trest_points = 516\n",
    "\n",
    "X_train_tensor = torch.tensor(data[:, :2000], dtype=torch.float32).unsqueeze(0) \n",
    "y_train_tensor = torch.tensor(data[:, 1:2001], dtype=torch.float32).unsqueeze(0)\n",
    "X_test_tensor = torch.tensor(data[:, 2000:-1], dtype=torch.float32).unsqueeze(0)\n",
    "y_test_tensor = torch.tensor(data[:, 2001:], dtype=torch.float32).unsqueeze(0)\n",
    "\n",
    "train_dataset = TensorDataset(X_train_tensor, y_train_tensor)\n",
    "test_dataset = TensorDataset(X_test_tensor, y_test_tensor)\n",
    "\n",
    "train_loader = DataLoader(train_dataset, batch_size=batch_size, shuffle=False)\n",
    "test_loader = DataLoader(test_dataset, batch_size=batch_size, shuffle=False)\n"
   ]
  },
  {
   "cell_type": "code",
   "execution_count": 4,
   "id": "4d088767-b407-4646-86e0-0b8a36057a29",
   "metadata": {},
   "outputs": [
    {
     "data": {
      "text/plain": [
       "torch.Size([1, 3, 2000])"
      ]
     },
     "execution_count": 4,
     "metadata": {},
     "output_type": "execute_result"
    }
   ],
   "source": [
    "X_train_tensor.shape"
   ]
  },
  {
   "cell_type": "markdown",
   "id": "8c48e3fb-5e41-4414-91aa-fb3d54c1c337",
   "metadata": {},
   "source": [
    "## Model"
   ]
  },
  {
   "cell_type": "code",
   "execution_count": 8,
   "id": "95a8ed6d-90fa-4e1c-ad58-58939221be87",
   "metadata": {},
   "outputs": [],
   "source": [
    "class Net(nn.Module):\n",
    "    def __init__(self):\n",
    "        super(Net, self).__init__()\n",
    "        self.conv1_1 = nn.Conv1d(in_channels=1, out_channels=16, kernel_size=20, stride=1, padding=0)\n",
    "        self.conv1_2 = nn.Conv1d(in_channels=16, out_channels=64, kernel_size=20, stride=1, padding=0)\n",
    "\n",
    "        self.conv2_1 = nn.Conv1d(in_channels=1, out_channels=16, kernel_size=20, stride=1, padding=0)\n",
    "        self.conv2_2 = nn.Conv1d(in_channels=16, out_channels=64, kernel_size=20, stride=1, padding=0)\n",
    "\n",
    "        self.conv3_1 = nn.Conv1d(in_channels=1, out_channels=16, kernel_size=20, stride=1, padding=0)\n",
    "        self.conv3_2 = nn.Conv1d(in_channels=16, out_channels=64, kernel_size=20, stride=1, padding=0)\n",
    "        \n",
    "        self.fc1 = nn.Conv1d(in_channels=64 * 3, out_channels=128, kernel_size=1)\n",
    "        self.fc2 = nn.Conv1d(in_channels=128, out_channels=3, kernel_size=1)\n",
    "\n",
    "        self.apply(self.initialize_weights)\n",
    "\n",
    "    def initialize_weights(self, module):\n",
    "        if isinstance(module, nn.Conv1d):\n",
    "            nn.init.normal_(module.weight) \n",
    "            if module.bias is not None:\n",
    "                nn.init.normal_(module.bias)\n",
    "\n",
    "        if isinstance(module, nn.Linear):\n",
    "            nn.init.normal_(module.weight) \n",
    "            if module.bias is not None:\n",
    "                nn.init.normal_(module.bias)\n",
    "\n",
    "    def exponential_smoothing(self, x, alpha=0.3):\n",
    "        # Apply exponential smoothing along the time dimension\n",
    "        x_np = x.detach().cpu().numpy()\n",
    "        smoothed = pd.DataFrame(x_np).ewm(alpha=alpha, axis=2).mean().values\n",
    "        return torch.tensor(smoothed, dtype=torch.float32, device=x.device)\n",
    "\n",
    "    def forward(self, x):\n",
    "        x1 = x[:, 0:1, :]\n",
    "        x1 = F.tanh(self.conv1_1(x1)) \n",
    "        x1 = F.tanh(self.conv1_2(x1))\n",
    "        #x = self.exponential_smoothing(x, alpha=0.3)\n",
    "\n",
    "        x2 = x[:, 1:2, :]\n",
    "        x2 = F.tanh(self.conv2_1(x2)) \n",
    "        x2 = F.tanh(self.conv2_2(x2))\n",
    "\n",
    "        x3 = x[:, 2:3, :]\n",
    "        x3 = F.tanh(self.conv3_1(x3)) \n",
    "        x3 = F.tanh(self.conv3_2(x3))\n",
    "\n",
    "        x_combined = torch.cat((x1, x2, x3), dim=1)\n",
    "        #x_combined = x_combined.view(x_combined.size(0), -1)\n",
    "\n",
    "        #x_combined = torch.cat((x1[:, :, -1], x2[:, :, -1], x3[:, :, -1]), dim=1)\n",
    "        x = F.tanh(self.fc1(x_combined))\n",
    "        x = self.fc2(x)\n",
    "        #x = F.softmax(x, dim=1)\n",
    "\n",
    "        return x\n"
   ]
  },
  {
   "cell_type": "markdown",
   "id": "075b932a-4902-4052-b9dc-e53f1b0e8037",
   "metadata": {},
   "source": [
    "## Train"
   ]
  },
  {
   "cell_type": "code",
   "execution_count": 9,
   "id": "f37a2de6-97bf-422d-b65c-8c3e6b7b54de",
   "metadata": {},
   "outputs": [],
   "source": [
    "model = Net()\n",
    "\n",
    "if cuda:\n",
    "    model.cuda()\n",
    "\n",
    "optimizer = optim.Adam(model.parameters(), lr=lr)\n",
    "criterion = nn.MSELoss()\n",
    "\n",
    "\n",
    "def train(epoch):\n",
    "    model.train()\n",
    "\n",
    "    for batch_idx, (data, target) in enumerate(train_loader):\n",
    "        if cuda:\n",
    "            data, target = data.cuda(), target.cuda()\n",
    "\n",
    "        optimizer.zero_grad()\n",
    "        output = model(data)\n",
    "        loss = criterion(output, target[:, :, -1962:])\n",
    "        \n",
    "        loss.backward()\n",
    "        optimizer.step()\n",
    "\n",
    "        if epoch % logging_interval == 0:\n",
    "            print(f'Train Epoch: {epoch} [{batch_idx * len(data)}/{len(train_loader.dataset)} '\n",
    "                  f'({100. * batch_idx / len(train_loader):.0f}%)]\\tLoss: {loss.item():.6f}')\n",
    "\n",
    "            # Log train/loss to TensorBoard at every iteration\n",
    "            n_iter = (epoch - 1) * len(train_loader) + batch_idx + 1\n",
    "            writer.add_scalar('train/loss', loss.item(), n_iter)\n",
    "\n",
    "    return output\n",
    "            "
   ]
  },
  {
   "cell_type": "markdown",
   "id": "c96afbbd-6522-4051-982e-8e1a6a4bf59f",
   "metadata": {},
   "source": [
    "## Run"
   ]
  },
  {
   "cell_type": "code",
   "execution_count": 10,
   "id": "3f6c41db-ecbb-47b5-a85d-e197e1f45acb",
   "metadata": {},
   "outputs": [
    {
     "name": "stdout",
     "output_type": "stream",
     "text": [
      "Train Epoch: 100 [0/1 (0%)]\tLoss: 0.003592\n",
      "Train Epoch: 200 [0/1 (0%)]\tLoss: 0.001429\n",
      "Train Epoch: 300 [0/1 (0%)]\tLoss: 0.000932\n",
      "Train Epoch: 400 [0/1 (0%)]\tLoss: 0.000761\n",
      "Train Epoch: 500 [0/1 (0%)]\tLoss: 0.000688\n",
      "Train Epoch: 600 [0/1 (0%)]\tLoss: 0.000654\n",
      "Train Epoch: 700 [0/1 (0%)]\tLoss: 0.000635\n",
      "Train Epoch: 800 [0/1 (0%)]\tLoss: 0.000623\n",
      "Train Epoch: 900 [0/1 (0%)]\tLoss: 0.000614\n",
      "Train Epoch: 1000 [0/1 (0%)]\tLoss: 0.000608\n",
      "Train Epoch: 1100 [0/1 (0%)]\tLoss: 0.000603\n",
      "Train Epoch: 1200 [0/1 (0%)]\tLoss: 0.000599\n",
      "Train Epoch: 1300 [0/1 (0%)]\tLoss: 0.000596\n",
      "Train Epoch: 1400 [0/1 (0%)]\tLoss: 0.000594\n",
      "Train Epoch: 1500 [0/1 (0%)]\tLoss: 0.000592\n",
      "Train Epoch: 1600 [0/1 (0%)]\tLoss: 0.000590\n",
      "Train Epoch: 1700 [0/1 (0%)]\tLoss: 0.000588\n",
      "Train Epoch: 1800 [0/1 (0%)]\tLoss: 0.000587\n",
      "Train Epoch: 1900 [0/1 (0%)]\tLoss: 0.000586\n",
      "Train Epoch: 2000 [0/1 (0%)]\tLoss: 0.000585\n",
      "Train Epoch: 2100 [0/1 (0%)]\tLoss: 0.000584\n",
      "Train Epoch: 2200 [0/1 (0%)]\tLoss: 0.000584\n",
      "Train Epoch: 2300 [0/1 (0%)]\tLoss: 0.000583\n",
      "Train Epoch: 2400 [0/1 (0%)]\tLoss: 0.000582\n",
      "Train Epoch: 2500 [0/1 (0%)]\tLoss: 0.000582\n",
      "Train Epoch: 2600 [0/1 (0%)]\tLoss: 0.000581\n",
      "Train Epoch: 2700 [0/1 (0%)]\tLoss: 0.000581\n",
      "Train Epoch: 2800 [0/1 (0%)]\tLoss: 0.000581\n",
      "Train Epoch: 2900 [0/1 (0%)]\tLoss: 0.000580\n",
      "Train Epoch: 3000 [0/1 (0%)]\tLoss: 0.000580\n",
      "Train Epoch: 3100 [0/1 (0%)]\tLoss: 0.000580\n",
      "Train Epoch: 3200 [0/1 (0%)]\tLoss: 0.000579\n",
      "Train Epoch: 3300 [0/1 (0%)]\tLoss: 0.000579\n",
      "Train Epoch: 3400 [0/1 (0%)]\tLoss: 0.000579\n",
      "Train Epoch: 3500 [0/1 (0%)]\tLoss: 0.000579\n",
      "Train Epoch: 3600 [0/1 (0%)]\tLoss: 0.000579\n",
      "Train Epoch: 3700 [0/1 (0%)]\tLoss: 0.000578\n",
      "Train Epoch: 3800 [0/1 (0%)]\tLoss: 0.000578\n",
      "Train Epoch: 3900 [0/1 (0%)]\tLoss: 0.000578\n",
      "Train Epoch: 4000 [0/1 (0%)]\tLoss: 0.000578\n"
     ]
    }
   ],
   "source": [
    "# Training loop\n",
    "\n",
    "for epoch in range(1, epochs + 1):\n",
    "    o = train(epoch)\n",
    "\n",
    "writer.close()"
   ]
  },
  {
   "cell_type": "code",
   "execution_count": 15,
   "id": "aee204e7-d4f5-49c5-92ad-736189b8b02e",
   "metadata": {},
   "outputs": [
    {
     "name": "stdout",
     "output_type": "stream",
     "text": [
      "0.0024288089317264384 -0.00047365978359367885\n"
     ]
    },
    {
     "data": {
      "text/plain": [
       "<matplotlib.legend.Legend at 0x7f9db1ca1040>"
      ]
     },
     "execution_count": 15,
     "metadata": {},
     "output_type": "execute_result"
    },
    {
     "data": {
      "image/png": "[encoded data removed]",
      "text/plain": [
       "<Figure size 640x480 with 1 Axes>"
      ]
     },
     "metadata": {},
     "output_type": "display_data"
    }
   ],
   "source": [
    "i = 2\n",
    "pred = o[:, i, -150:][0].detach().cpu().numpy()\n",
    "obj = y_train_tensor[:, i, -150:][0].detach().cpu().numpy()\n",
    "\n",
    "exp = np.sqrt(np.dot(pred, pred) / len(pred))\n",
    "real = (np.dot(pred, obj) / len(pred)) / exp\n",
    "\n",
    "print(exp, real)\n",
    "\n",
    "plt.plot(np.cumsum(pred), label=\"pred\")\n",
    "plt.plot(np.cumsum(obj), label=\"obj\")\n",
    "\n",
    "plt.legend()"
   ]
  },
  {
   "cell_type": "code",
   "execution_count": null,
   "id": "ae32d22c-1924-4176-b1ce-8c80d9363345",
   "metadata": {},
   "outputs": [],
   "source": []
  }
 ],
 "metadata": {
  "kernelspec": {
   "display_name": "Python 3 (ipykernel)",
   "language": "python",
   "name": "python3"
  },
  "language_info": {
   "codemirror_mode": {
    "name": "ipython",
    "version": 3
   },
   "file_extension": ".py",
   "mimetype": "text/x-python",
   "name": "python",
   "nbconvert_exporter": "python",
   "pygments_lexer": "ipython3",
   "version": "3.12.4"
  }
 },
 "nbformat": 4,
 "nbformat_minor": 5
}
