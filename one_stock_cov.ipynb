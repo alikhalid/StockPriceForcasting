{
 "cells": [
  {
   "cell_type": "code",
   "execution_count": null,
   "id": "86f497b2-4fb3-4632-86d8-b2f7fff223bb",
   "metadata": {},
   "outputs": [],
   "source": [
    "import os\n",
    "import sys\n",
    "import numpy as np\n",
    "import pandas as pd\n",
    "import yfinance as yf\n",
    "import matplotlib.pyplot as plt\n",
    "\n",
    "from pathlib import Path\n",
    "from datetime import datetime\n",
    "\n",
    "import torch\n",
    "import torch.nn as nn\n",
    "import torch.optim as optim\n",
    "import torch.nn.functional as F\n",
    "from torchvision import datasets, transforms\n",
    "from torch.utils.data import DataLoader, TensorDataset, Dataset\n",
    "from torch.utils.tensorboard import SummaryWriter\n",
    "from sklearn.metrics import mean_squared_error\n",
    "\n",
    "from data_loader import *"
   ]
  },
  {
   "cell_type": "markdown",
   "id": "b84ac972-101d-4ad7-9643-056017830010",
   "metadata": {},
   "source": [
    "## Settings"
   ]
  },
  {
   "cell_type": "code",
   "execution_count": null,
   "id": "150137e5-8e24-4507-8018-92f02da1de2e",
   "metadata": {},
   "outputs": [],
   "source": [
    "num_train = 60\n",
    "num_test = 20\n",
    "num_total = num_train + num_test\n",
    "\n",
    "window_size = 10\n",
    "kernel_size = 5\n",
    "\n",
    "writer = SummaryWriter(log_dir=f\"runs/fully_connected/{datetime.now().strftime('%Y%m%d_%H%M%S')}\")\n"
   ]
  },
  {
   "cell_type": "markdown",
   "id": "200b6d17-f6cc-4001-9223-cc16347e9935",
   "metadata": {},
   "source": [
    "## Data"
   ]
  },
  {
   "cell_type": "code",
   "execution_count": null,
   "id": "92174126-1f88-4726-bbb6-d40eb8ec4be5",
   "metadata": {},
   "outputs": [],
   "source": [
    "X1, y1 = load_stock(\"AMZN\")\n",
    "X2, y2 = load_stock(\"TSLA\")\n",
    "X3, y3 = load_stock(\"AAPL\")\n",
    "X4, y4 = load_stock(\"NVDA\")\n",
    "X5, y5 = load_stock(\"AMGN\")\n",
    "X6, y6 = load_stock(\"AAL\")\n",
    "X7, y7 = load_stock(\"LUV\")\n",
    "X8, y8 = load_stock(\"JNJ\")\n",
    "X9, y9 = load_stock(\"UNH\")\n",
    "X10, y10 = load_stock(\"JEPI\")\n",
    "X100, y100 = load_stock(\"QQQ\")\n",
    "X101, y101 = load_stock(\"SPY\")\n",
    "\n",
    "X = np.stack([X1, X2, X3, X4, X5, X6, X7, X8, X9, X10, X100, X101])\n",
    "X = X.reshape((X.shape[0] * X.shape[1], X.shape[-1]))\n",
    "y = np.stack([y1, y2, y3, y4, y5, y6, y7, y8, y9, y10])\n",
    "\n",
    "\n",
    "X_train, y_train = setup_cov_tensors(X[:, -num_total: -num_test], y[:, -num_total: -num_test], window_size)\n",
    "X_test, y_test = setup_cov_tensors(X[:, -num_test-window_size:], y[:, -num_test-window_size:], window_size)\n"
   ]
  },
  {
   "cell_type": "code",
   "execution_count": null,
   "id": "405477c5-1bd1-455a-a3de-392a6b262f10",
   "metadata": {},
   "outputs": [],
   "source": [
    "print(\"Input\", X_train.shape)\n",
    "print(\"Out\", y_train.shape)"
   ]
  },
  {
   "cell_type": "markdown",
   "id": "f249d4a2-67f3-464f-9f5c-fbe3825a6857",
   "metadata": {},
   "source": [
    "## Model"
   ]
  },
  {
   "cell_type": "code",
   "execution_count": null,
   "id": "e76648e6-f4fa-451b-bd3a-1ce42fbe5945",
   "metadata": {},
   "outputs": [],
   "source": [
    "# Define the 1D convolutional model\n",
    "class FullyConnectedStockReturnPredictor(nn.Module):\n",
    "    def __init__(self, neteork_in_size, neteork_out_size, kernel_size, sequence_length):\n",
    "        super(FullyConnectedStockReturnPredictor, self).__init__()\n",
    "        self.conv1 = nn.Conv1d(in_channels=neteork_in_size, out_channels=30, kernel_size=kernel_size)\n",
    "        self.conv2 = nn.Conv1d(in_channels=30, out_channels=10, kernel_size=kernel_size)\n",
    "        num_conv_layers = 2\n",
    "        self.fc1 = nn.Linear(10 * (sequence_length - num_conv_layers * kernel_size + num_conv_layers * 1), neteork_out_size)\n",
    "\n",
    "    def forward(self, x):\n",
    "        x = self.conv1(x)\n",
    "        x = torch.tanh(x)\n",
    "        x = self.conv2(x)\n",
    "        x = torch.tanh(x)\n",
    "        x = x.view(x.size(0), -1)\n",
    "        x = self.fc1(x)\n",
    "        return x\n"
   ]
  },
  {
   "cell_type": "markdown",
   "id": "61f848b9-5205-4011-bb63-b91017178ab7",
   "metadata": {},
   "source": [
    "## Train"
   ]
  },
  {
   "cell_type": "code",
   "execution_count": null,
   "id": "4c30d856-4234-4f88-8147-98bc557e9a62",
   "metadata": {},
   "outputs": [],
   "source": [
    "# Instantiate the model, define loss and optimizer\n",
    "model = FullyConnectedStockReturnPredictor(X.shape[0], y.shape[0], kernel_size, window_size)\n",
    "criterion = nn.MSELoss()\n",
    "optimizer = optim.Adam(model.parameters(), lr=0.01, weight_decay=1e-4)\n",
    "\n",
    "def train(epoch):\n",
    "    model.train()\n",
    "    optimizer.zero_grad()\n",
    "    inputs_batch = X_train\n",
    "    outputs = model(inputs_batch)\n",
    "\n",
    "    loss = criterion(outputs, y_train)\n",
    "    loss.backward()\n",
    "    optimizer.step()\n",
    "    \n",
    "    if (epoch + 1) % 500 == 0:\n",
    "        print(f'Epoch {epoch + 1}, Loss: {loss.item():.4f}')\n",
    "        writer.add_scalar('train/loss', loss.item(), epoch)\n",
    "\n",
    "\n",
    "def test(X, y):\n",
    "    model.eval()\n",
    "\n",
    "    with torch.no_grad():\n",
    "        test_outputs = model(X).squeeze()\n",
    "        test_loss = mean_squared_error(y.numpy(), test_outputs.numpy())\n",
    "        print(f'Test Loss (MSE): {test_loss:.4f}')\n",
    "\n",
    "        return test_outputs, y"
   ]
  },
  {
   "cell_type": "code",
   "execution_count": null,
   "id": "752be184-485a-409d-b1fd-9d1088f56096",
   "metadata": {},
   "outputs": [],
   "source": [
    "# Training loop\n",
    "\n",
    "for epoch in range(4000):\n",
    "    train(epoch)\n",
    "    if epoch % 100 == 0:\n",
    "        test(X_test, y_test)\n",
    "\n",
    "writer.close()"
   ]
  },
  {
   "cell_type": "markdown",
   "id": "4473f79a-fc81-420f-b141-9d2f0551e29f",
   "metadata": {},
   "source": [
    "## Plot"
   ]
  },
  {
   "cell_type": "code",
   "execution_count": null,
   "id": "48116294-4171-42e8-9c8f-5dbb6f6d653b",
   "metadata": {},
   "outputs": [],
   "source": [
    "pred, obj = test(X_test, y_test)"
   ]
  },
  {
   "cell_type": "code",
   "execution_count": null,
   "id": "8b9ce43d-0218-4718-81af-1393dc50ee4e",
   "metadata": {},
   "outputs": [],
   "source": [
    "stock_id = 9\n",
    "pred = np.array(test_outputs[:, stock_id])\n",
    "#pred[np.abs(pred) < 0.01] = 0\n",
    "obj = np.array(y_test[stock_id])\n",
    "\n",
    "exp = np.sqrt(np.dot(pred, pred) / len(pred))\n",
    "real = (np.dot(pred, obj) / len(pred)) / exp\n",
    "\n",
    "print(\"exp\", exp, \"real\", real)\n",
    "print(\"Accuracy\", np.sum((pred * obj) > 0)/np.sum(pred != 0))\n",
    "\n",
    "obj_sort = np.argsort(obj)\n",
    "plt.plot(np.cumsum(pred[obj_sort]), label=\"pred\")\n",
    "plt.plot(np.cumsum(obj[obj_sort]), label=\"obj\")\n",
    "\n",
    "plt.legend()"
   ]
  },
  {
   "cell_type": "code",
   "execution_count": null,
   "id": "d39f433d-4834-4d63-a2ec-06cd15a7e527",
   "metadata": {},
   "outputs": [],
   "source": [
    "plt.plot((pred), label=\"pred\")\n",
    "plt.plot((obj), label=\"obj\")\n",
    "\n",
    "plt.legend()"
   ]
  },
  {
   "cell_type": "code",
   "execution_count": null,
   "id": "ef4a3a55-f23c-4f22-adf0-f9383bb806fe",
   "metadata": {},
   "outputs": [],
   "source": []
  },
  {
   "cell_type": "code",
   "execution_count": null,
   "id": "22508765-273f-42cb-a52c-5abe742fa2b3",
   "metadata": {},
   "outputs": [],
   "source": []
  }
 ],
 "metadata": {
  "kernelspec": {
   "display_name": "Python 3 (ipykernel)",
   "language": "python",
   "name": "python3"
  },
  "language_info": {
   "codemirror_mode": {
    "name": "ipython",
    "version": 3
   },
   "file_extension": ".py",
   "mimetype": "text/x-python",
   "name": "python",
   "nbconvert_exporter": "python",
   "pygments_lexer": "ipython3",
   "version": "3.12.4"
  }
 },
 "nbformat": 4,
 "nbformat_minor": 5
}
