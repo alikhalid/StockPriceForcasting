{
 "cells": [
  {
   "cell_type": "code",
   "execution_count": null,
   "id": "86f497b2-4fb3-4632-86d8-b2f7fff223bb",
   "metadata": {},
   "outputs": [],
   "source": [
    "import os\n",
    "import sys\n",
    "import numpy as np\n",
    "import pandas as pd\n",
    "import yfinance as yf\n",
    "import matplotlib.pyplot as plt\n",
    "\n",
    "from pathlib import Path\n",
    "from datetime import datetime\n",
    "\n",
    "import torch\n",
    "import torch.nn as nn\n",
    "import torch.optim as optim\n",
    "from torchvision import datasets, transforms\n",
    "from torch.utils.data import DataLoader, TensorDataset, Dataset\n",
    "from torch.utils.tensorboard import SummaryWriter\n",
    "from sklearn.metrics import mean_squared_error\n",
    "\n",
    "from data_loader import *\n",
    "from stats import *\n",
    "from train_test import *"
   ]
  },
  {
   "cell_type": "markdown",
   "id": "b84ac972-101d-4ad7-9643-056017830010",
   "metadata": {},
   "source": [
    "## Settings"
   ]
  },
  {
   "cell_type": "code",
   "execution_count": null,
   "id": "150137e5-8e24-4507-8018-92f02da1de2e",
   "metadata": {},
   "outputs": [],
   "source": [
    "num_train = 60\n",
    "num_test = 20\n",
    "num_total = num_train + num_test\n",
    "\n",
    "window_size = 10\n",
    "kernel_size = 5\n",
    "\n",
    "tickers = [\n",
    "    \"AMZN\", \"TSLA\", \"AAPL\", \"NVDA\", \"AMGN\", \n",
    "    \"AAL\", \"LUV\", \"JNJ\", \"UNH\", \"JEPI\"\n",
    "]\n",
    "\n",
    "writer = SummaryWriter(log_dir=f\"runs/fully_connected/{datetime.now().strftime('%Y%m%d_%H%M%S')}\")\n"
   ]
  },
  {
   "cell_type": "markdown",
   "id": "200b6d17-f6cc-4001-9223-cc16347e9935",
   "metadata": {},
   "source": [
    "## Data"
   ]
  },
  {
   "cell_type": "code",
   "execution_count": null,
   "id": "92174126-1f88-4726-bbb6-d40eb8ec4be5",
   "metadata": {},
   "outputs": [],
   "source": [
    "X = []\n",
    "y = []\n",
    "\n",
    "for ticker in tickers:\n",
    "    X1, y1 = load_stock(ticker)\n",
    "    X.append(X1)\n",
    "    y.append(y1)\n",
    "\n",
    "X = np.stack(X)\n",
    "X = X.reshape((X.shape[0] * X.shape[1], X.shape[-1]))\n",
    "y = np.stack(y)\n",
    "\n",
    "\n",
    "X_train, y_train = setup_cov_tensors(X[:, -num_total: -num_test], y[:, -num_total: -num_test], window_size)\n",
    "X_test, y_test = setup_cov_tensors(X[:, -num_test-window_size:], y[:, -num_test-window_size:], window_size)\n"
   ]
  },
  {
   "cell_type": "code",
   "execution_count": null,
   "id": "405477c5-1bd1-455a-a3de-392a6b262f10",
   "metadata": {},
   "outputs": [],
   "source": [
    "print(\"Input\", X_train.shape)\n",
    "print(\"Out\", y_train.shape)"
   ]
  },
  {
   "cell_type": "markdown",
   "id": "f249d4a2-67f3-464f-9f5c-fbe3825a6857",
   "metadata": {},
   "source": [
    "## Model"
   ]
  },
  {
   "cell_type": "code",
   "execution_count": null,
   "id": "e76648e6-f4fa-451b-bd3a-1ce42fbe5945",
   "metadata": {},
   "outputs": [],
   "source": [
    "# Define the 1D convolutional model\n",
    "class FullyConnectedStockReturnPredictor(nn.Module):\n",
    "    def __init__(self, neteork_in_size, neteork_out_size, kernel_size, sequence_length):\n",
    "        super(FullyConnectedStockReturnPredictor, self).__init__()\n",
    "        self.conv1 = nn.Conv1d(in_channels=neteork_in_size, out_channels=30, kernel_size=kernel_size)\n",
    "        self.conv2 = nn.Conv1d(in_channels=30, out_channels=10, kernel_size=kernel_size)\n",
    "        num_conv_layers = 2\n",
    "        self.fc1 = nn.Linear(10 * (sequence_length - num_conv_layers * kernel_size + num_conv_layers * 1), neteork_out_size)\n",
    "\n",
    "    def forward(self, x):\n",
    "        x = self.conv1(x)\n",
    "        x = torch.tanh(x)\n",
    "        x = self.conv2(x)\n",
    "        x = torch.tanh(x)\n",
    "        x = x.view(x.size(0), -1)\n",
    "        x = self.fc1(x)\n",
    "        return x\n"
   ]
  },
  {
   "cell_type": "markdown",
   "id": "61f848b9-5205-4011-bb63-b91017178ab7",
   "metadata": {},
   "source": [
    "## Train"
   ]
  },
  {
   "cell_type": "code",
   "execution_count": null,
   "id": "4c30d856-4234-4f88-8147-98bc557e9a62",
   "metadata": {},
   "outputs": [],
   "source": [
    "# Instantiate the model, define loss and optimizer\n",
    "model = FullyConnectedStockReturnPredictor(X.shape[0], y.shape[0], kernel_size, window_size)\n",
    "criterion = nn.MSELoss()\n",
    "optimizer = optim.Adam(model.parameters(), lr=0.01, weight_decay=1e-4)\n",
    "\n",
    "for epoch in range(4000):\n",
    "    train(epoch, X_train, y_train, model, optimizer, criterion, writer)\n",
    "    if epoch % 100 == 0:\n",
    "        pred, obj = test(epoch, X_test, y_test, model, writer)\n",
    "\n",
    "writer.close()\n"
   ]
  },
  {
   "cell_type": "markdown",
   "id": "4473f79a-fc81-420f-b141-9d2f0551e29f",
   "metadata": {},
   "source": [
    "## Plot"
   ]
  },
  {
   "cell_type": "code",
   "execution_count": null,
   "id": "f9f3d3e5-ef09-4dfb-b798-09aca61213ea",
   "metadata": {},
   "outputs": [],
   "source": [
    "df = compute_prediction_stats(tickers, pred, obj)\n",
    "df"
   ]
  },
  {
   "cell_type": "code",
   "execution_count": null,
   "id": "8b9ce43d-0218-4718-81af-1393dc50ee4e",
   "metadata": {},
   "outputs": [],
   "source": [
    "stock_id = 0\n",
    "_pred = pred[:, stock_id]\n",
    "_obj = obj[:, stock_id]\n",
    "\n",
    "obj_sort = np.argsort(_obj)\n",
    "plt.plot(np.cumsum(_pred[obj_sort]), label=\"pred\")\n",
    "plt.plot(np.cumsum(_obj[obj_sort]), label=\"obj\")\n",
    "\n",
    "plt.legend()"
   ]
  },
  {
   "cell_type": "code",
   "execution_count": null,
   "id": "441a1fa3-f849-4638-a825-e8f151b9e7c4",
   "metadata": {},
   "outputs": [],
   "source": [
    "plt.plot((_pred), label=\"pred\")\n",
    "plt.plot((_obj), label=\"obj\")\n",
    "\n",
    "plt.legend()"
   ]
  },
  {
   "cell_type": "code",
   "execution_count": null,
   "id": "5aacbff7-c684-47a7-8ae8-6ee9b842fa0d",
   "metadata": {},
   "outputs": [],
   "source": []
  }
 ],
 "metadata": {
  "kernelspec": {
   "display_name": "Python 3 (ipykernel)",
   "language": "python",
   "name": "python3"
  },
  "language_info": {
   "codemirror_mode": {
    "name": "ipython",
    "version": 3
   },
   "file_extension": ".py",
   "mimetype": "text/x-python",
   "name": "python",
   "nbconvert_exporter": "python",
   "pygments_lexer": "ipython3",
   "version": "3.12.4"
  }
 },
 "nbformat": 4,
 "nbformat_minor": 5
}
