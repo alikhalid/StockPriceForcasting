{
 "cells": [
  {
   "cell_type": "code",
   "execution_count": null,
   "id": "86cbb702-3684-456a-ae9e-95436bee3f01",
   "metadata": {},
   "outputs": [],
   "source": [
    "import os\n",
    "import sys\n",
    "import numpy as np\n",
    "import pandas as pd\n",
    "import yfinance as yf\n",
    "import matplotlib.pyplot as plt\n",
    "\n",
    "from pathlib import Path\n",
    "from datetime import datetime\n",
    "\n",
    "import torch\n",
    "import torch.nn as nn\n",
    "import torch.optim as optim\n",
    "from torchvision import datasets, transforms\n",
    "from torch.utils.data import DataLoader, TensorDataset, Dataset\n",
    "from torch.utils.tensorboard import SummaryWriter\n",
    "from sklearn.metrics import mean_squared_error\n",
    "\n",
    "from data_loader import *\n",
    "from stats import *"
   ]
  },
  {
   "cell_type": "markdown",
   "id": "636f3ef2-b3d8-4835-8aba-86b373ef6378",
   "metadata": {},
   "source": [
    "## Settings"
   ]
  },
  {
   "cell_type": "code",
   "execution_count": null,
   "id": "9ab8a057-3aec-4b43-895b-bdafead69fd0",
   "metadata": {},
   "outputs": [],
   "source": [
    "num_train = 60\n",
    "num_test = 20\n",
    "num_total = num_train + num_test\n",
    "\n",
    "window_size = 10\n",
    "kernel_size = 5\n",
    "\n",
    "tickers = [\n",
    "    \"AMZN\", \"TSLA\", \"AAPL\", \"NVDA\", \"AMGN\", \n",
    "    \"AAL\", \"LUV\", \"JNJ\", \"UNH\", \"JEPI\"\n",
    "]\n",
    "\n",
    "\n",
    "writer = SummaryWriter(log_dir=f\"runs/sparsely_connected/{datetime.now().strftime('%Y%m%d_%H%M%S')}\")\n"
   ]
  },
  {
   "cell_type": "markdown",
   "id": "b3ea1c8b-4640-4aa4-b7e8-b8e74c48f629",
   "metadata": {},
   "source": [
    "## Data"
   ]
  },
  {
   "cell_type": "code",
   "execution_count": null,
   "id": "8c395d72-7dbf-4255-8301-161b3e5de050",
   "metadata": {},
   "outputs": [],
   "source": [
    "X = []\n",
    "y = []\n",
    "\n",
    "for ticker in tickers:\n",
    "    X1, y1 = load_stock(ticker)\n",
    "    X.append(X1)\n",
    "    y.append(y1)\n",
    "\n",
    "X = np.stack(X)\n",
    "y = np.stack(y)\n",
    "\n",
    "\n",
    "X_train, y_train = setup_cov_tensors(X[..., -num_total: -num_test], y[..., -num_total: -num_test], window_size)\n",
    "X_test, y_test = setup_cov_tensors(X[..., -num_test-window_size:], y[..., -num_test-window_size:], window_size)\n"
   ]
  },
  {
   "cell_type": "code",
   "execution_count": null,
   "id": "6d99b59a-dd20-452e-a955-8019a195db14",
   "metadata": {},
   "outputs": [],
   "source": [
    "print(X_train.shape)\n",
    "print(y_train.shape)"
   ]
  },
  {
   "cell_type": "markdown",
   "id": "8c48e3fb-5e41-4414-91aa-fb3d54c1c337",
   "metadata": {},
   "source": [
    "## Model"
   ]
  },
  {
   "cell_type": "code",
   "execution_count": null,
   "id": "edf02fd3-2263-4cad-aebc-b784cc322486",
   "metadata": {},
   "outputs": [],
   "source": [
    "class MultiStockReturnPredictor(nn.Module):\n",
    "    def __init__(self, per_stock_features, kernel_size, num_outputs, sequence_length):\n",
    "        super(MultiStockReturnPredictor, self).__init__()\n",
    "        \n",
    "        self.per_stock_features = per_stock_features\n",
    "        convolution_channels = 18\n",
    "        convolution_out = 9\n",
    "        self.num_stocks = num_outputs  # Number of stocks\n",
    "        \n",
    "        # Dynamically create convolutional layers for each stock\n",
    "        self.conv1 = nn.ModuleList([\n",
    "            nn.Sequential(\n",
    "                nn.Conv1d(in_channels=per_stock_features, out_channels=convolution_channels, kernel_size=kernel_size, stride=1, padding=0),\n",
    "                nn.Tanh(),\n",
    "                nn.Conv1d(in_channels=convolution_channels, out_channels=convolution_out, kernel_size=kernel_size, stride=1, padding=0),\n",
    "                nn.Tanh()\n",
    "            )\n",
    "            for _ in range(self.num_stocks)\n",
    "        ])\n",
    "        \n",
    "        # Fully connected layers\n",
    "        length_after_conv1 = sequence_length - kernel_size + 1\n",
    "        length_after_conv2 = length_after_conv1 - kernel_size + 1\n",
    "        fc1_input_size = self.num_stocks * convolution_out * length_after_conv2\n",
    "\n",
    "        self.fc1 = nn.Linear(fc1_input_size, 6)\n",
    "        self.fc2 = nn.Linear(6, num_outputs)\n",
    "\n",
    "        # Initialize weights\n",
    "        self.apply(self.initialize_weights)\n",
    "\n",
    "    def initialize_weights(self, module):\n",
    "        if isinstance(module, nn.Conv1d):\n",
    "            nn.init.xavier_uniform_(module.weight)\n",
    "            if module.bias is not None:\n",
    "                nn.init.zeros_(module.bias)\n",
    "\n",
    "        if isinstance(module, nn.Linear):\n",
    "            nn.init.xavier_uniform_(module.weight)\n",
    "            if module.bias is not None:\n",
    "                nn.init.zeros_(module.bias)\n",
    "\n",
    "    def exponential_smoothing(self, x, alpha=0.3):\n",
    "        # Apply exponential smoothing along the time dimension\n",
    "        x_np = x.detach().cpu().numpy()\n",
    "        smoothed = pd.DataFrame(x_np).ewm(alpha=alpha, axis=2).mean().values\n",
    "        return torch.tensor(smoothed, dtype=torch.float32, device=x.device)\n",
    "\n",
    "    def forward(self, x):\n",
    "        # x shape: [batch_size, num_stocks, per_stock_features, sequence_length]\n",
    "        stock_outputs = []\n",
    "\n",
    "        # Apply convolutional layers for each stock\n",
    "        for i in range(self.num_stocks):\n",
    "            stock_x = x[:, i, :, :] \n",
    "            stock_out = self.conv1[i](stock_x)  # Pass through stock-specific convolutional layers\n",
    "            stock_outputs.append(stock_out)\n",
    "\n",
    "        # Concatenate outputs from all stocks\n",
    "        x_combined = torch.cat(stock_outputs, dim=1) \n",
    "        x_combined = x_combined.view(x_combined.size(0), -1)\n",
    "\n",
    "        # Fully connected layers\n",
    "        x = torch.tanh(self.fc1(x_combined))\n",
    "        x = self.fc2(x)\n",
    "\n",
    "        return x\n"
   ]
  },
  {
   "cell_type": "markdown",
   "id": "075b932a-4902-4052-b9dc-e53f1b0e8037",
   "metadata": {},
   "source": [
    "## Train"
   ]
  },
  {
   "cell_type": "code",
   "execution_count": null,
   "id": "3551abd1-d1d9-4b7e-851a-0ed357c7aadb",
   "metadata": {},
   "outputs": [],
   "source": [
    "model = MultiStockReturnPredictor(X.shape[1], kernel_size, y.shape[0], window_size)\n",
    "\n",
    "# if cuda:\n",
    "#     model.cuda()\n",
    "\n",
    "criterion = nn.MSELoss()\n",
    "optimizer = optim.Adam(model.parameters(), lr=0.001, weight_decay=1e-4)\n",
    "\n",
    "\n",
    "for epoch in range(4000):\n",
    "    train(epoch, X_train, y_train, model, optimizer, criterion, writer)\n",
    "    if epoch % 100 == 0:\n",
    "        pred, obj = test(epoch, X_test, y_test, model, writer)\n",
    "\n",
    "writer.close()\n"
   ]
  },
  {
   "cell_type": "markdown",
   "id": "86ab8fd2-f159-487d-bfcb-a158ee4ee980",
   "metadata": {},
   "source": [
    "## Plot"
   ]
  },
  {
   "cell_type": "code",
   "execution_count": null,
   "id": "5b777fa7-2ff1-4659-ac84-7de16e277db0",
   "metadata": {},
   "outputs": [],
   "source": [
    "df = compute_prediction_stats(tickers, pred, obj)\n",
    "df"
   ]
  },
  {
   "cell_type": "code",
   "execution_count": null,
   "id": "aee204e7-d4f5-49c5-92ad-736189b8b02e",
   "metadata": {},
   "outputs": [],
   "source": [
    "stock_id = 0\n",
    "_pred = pred[:, stock_id]\n",
    "_obj = obj[:, stock_id]\n",
    "\n",
    "obj_sort = np.argsort(_obj)\n",
    "plt.plot(np.cumsum(_pred[obj_sort]), label=\"pred\")\n",
    "plt.plot(np.cumsum(_obj[obj_sort]), label=\"obj\")\n",
    "\n",
    "plt.legend()"
   ]
  },
  {
   "cell_type": "code",
   "execution_count": null,
   "id": "ae32d22c-1924-4176-b1ce-8c80d9363345",
   "metadata": {},
   "outputs": [],
   "source": [
    "plt.plot((_pred), label=\"pred\")\n",
    "plt.plot((_obj), label=\"obj\")\n",
    "\n",
    "plt.legend()"
   ]
  },
  {
   "cell_type": "code",
   "execution_count": null,
   "id": "6ccdbb7a-127b-48e1-93b0-6eab807f91bc",
   "metadata": {},
   "outputs": [],
   "source": []
  }
 ],
 "metadata": {
  "kernelspec": {
   "display_name": "Python 3 (ipykernel)",
   "language": "python",
   "name": "python3"
  },
  "language_info": {
   "codemirror_mode": {
    "name": "ipython",
    "version": 3
   },
   "file_extension": ".py",
   "mimetype": "text/x-python",
   "name": "python",
   "nbconvert_exporter": "python",
   "pygments_lexer": "ipython3",
   "version": "3.12.4"
  }
 },
 "nbformat": 4,
 "nbformat_minor": 5
}
