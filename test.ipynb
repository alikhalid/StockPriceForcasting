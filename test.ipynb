{
 "cells": [
  {
   "cell_type": "code",
   "execution_count": 24,
   "id": "152be416-f9b9-48e3-8e38-c49a8eefbc73",
   "metadata": {},
   "outputs": [
    {
     "name": "stdout",
     "output_type": "stream",
     "text": [
      "Epoch [100/2000], Loss: 0.0025\n",
      "Epoch [200/2000], Loss: 0.0015\n",
      "Epoch [300/2000], Loss: 0.0011\n",
      "Epoch [400/2000], Loss: 0.0009\n",
      "Epoch [500/2000], Loss: 0.0008\n",
      "Epoch [600/2000], Loss: 0.0008\n",
      "Epoch [700/2000], Loss: 0.0007\n",
      "Epoch [800/2000], Loss: 0.0007\n",
      "Epoch [900/2000], Loss: 0.0007\n",
      "Epoch [1000/2000], Loss: 0.0007\n",
      "Epoch [1100/2000], Loss: 0.0007\n",
      "Epoch [1200/2000], Loss: 0.0006\n",
      "Epoch [1300/2000], Loss: 0.0006\n",
      "Epoch [1400/2000], Loss: 0.0006\n",
      "Epoch [1500/2000], Loss: 0.0006\n",
      "Epoch [1600/2000], Loss: 0.0006\n",
      "Epoch [1700/2000], Loss: 0.0006\n",
      "Epoch [1800/2000], Loss: 0.0006\n",
      "Epoch [1900/2000], Loss: 0.0006\n",
      "Epoch [2000/2000], Loss: 0.0006\n",
      "Training finished.\n",
      "Test Loss (MSE): 0.0006\n"
     ]
    }
   ],
   "source": [
    "import torch\n",
    "import torch.nn as nn\n",
    "import torch.optim as optim\n",
    "import numpy as np\n",
    "import yfinance as yf\n",
    "from sklearn.model_selection import train_test_split\n",
    "from sklearn.metrics import mean_squared_error\n",
    "import matplotlib.pyplot as plt\n",
    "\n",
    "# Define the dataset loader\n",
    "def load_data(ticker):\n",
    "    ticker = yf.Ticker(ticker)\n",
    "    historical_data = ticker.history(period=\"10y\")\n",
    "    close = np.array(historical_data.Close)\n",
    "    open = np.array(historical_data.Open)\n",
    "\n",
    "    next_open = open[2:]\n",
    "    next_close = close[2:]\n",
    "    last_open = open[:-2]\n",
    "    last_close = close[:-2]\n",
    "    open = open[1:-1]\n",
    "    close = close[1:-1]\n",
    "\n",
    "    vol = np.array(historical_data.Volume)[1:-1]\n",
    "    vol = vol / np.mean(vol)\n",
    "\n",
    "    obj = (next_close - next_open) / next_open\n",
    "    data = np.concatenate([[(close - open) / open],\n",
    "                           [(next_open - close) / close],\n",
    "                           [vol]])\n",
    "    return data.T.astype(np.float32), obj.astype(np.float32)\n",
    "\n",
    "# Load data from Yahoo Finance\n",
    "data, targets = load_data(\"NVDA\")\n",
    "\n",
    "# Prepare the rolling window inputs and corresponding targets\n",
    "window_size = 20\n",
    "n_stocks = 1  # Number of different stocks to predict (AAPL)\n",
    "n_features = data.shape[1]  # Number of features per time step\n",
    "\n",
    "inputs = []\n",
    "for i in range(len(data) - window_size):\n",
    "    inputs.append(data[i:i + window_size])\n",
    "\n",
    "inputs = np.array(inputs)\n",
    "targets = targets[window_size:]  # Adjust targets to match the input windows\n",
    "\n",
    "# Split the dataset into training and testing sets\n",
    "split_idx = int(0.8 * len(inputs))\n",
    "inputs_train, inputs_test = inputs[:split_idx], inputs[split_idx:]\n",
    "targets_train, targets_test = targets[:split_idx], targets[split_idx:]\n",
    "\n",
    "# Convert to PyTorch tensors\n",
    "inputs_train = torch.from_numpy(inputs_train).permute(0, 2, 1)  # Change shape to (batch_size, n_features, sequence_length)\n",
    "targets_train = torch.from_numpy(targets_train).float()  # Keep the shape to match multiple stock outputs\n",
    "inputs_test = torch.from_numpy(inputs_test).permute(0, 2, 1)\n",
    "targets_test = torch.from_numpy(targets_test).float()\n",
    "\n",
    "# Define the 1D convolutional model\n",
    "class StockReturnPredictor(nn.Module):\n",
    "    def __init__(self):\n",
    "        super(StockReturnPredictor, self).__init__()\n",
    "        self.stock_convs = nn.ModuleList([nn.Sequential(\n",
    "            nn.Conv1d(in_channels=n_features, out_channels=8, kernel_size=3),\n",
    "            nn.Tanh(),\n",
    "            nn.Conv1d(in_channels=8, out_channels=4, kernel_size=3),\n",
    "            nn.Tanh(),\n",
    "            nn.Flatten(),\n",
    "            nn.Linear(4 * (window_size - 3 - 3 + 1 + 1), 1),  # Add linear layer after convolutions\n",
    "        ) for _ in range(n_stocks)])\n",
    "        self.fc1 = nn.Linear(1 * n_stocks, n_stocks)  # Output size matches number of stocks\n",
    "\n",
    "    def forward(self, x):\n",
    "        stock_features = []\n",
    "        for i, conv in enumerate(self.stock_convs):\n",
    "            stock_input = x[:, :, :]  # Use the same input for each stock\n",
    "            stock_output = conv(stock_input)\n",
    "            stock_features.append(stock_output)\n",
    "            \n",
    "        \n",
    "        x = torch.cat(stock_features, dim=1)  # Concatenate features from all stocks\n",
    "        x = self.fc1(x)\n",
    "        return x\n",
    "\n",
    "# Instantiate the model, define loss and optimizer\n",
    "model = StockReturnPredictor()\n",
    "criterion = nn.MSELoss()\n",
    "optimizer = optim.Adam(model.parameters(), lr=0.001)\n",
    "\n",
    "# Training loop\n",
    "epochs = 2000\n",
    "for epoch in range(epochs):\n",
    "    model.train()\n",
    "    optimizer.zero_grad()\n",
    "    \n",
    "    # Add batch dimension (batch_size, channels, sequence_length)\n",
    "    inputs_batch = inputs_train\n",
    "    outputs = model(inputs_batch)\n",
    "    \n",
    "    loss = criterion(outputs.squeeze(), targets_train)  # Squeeze outputs to match target shape\n",
    "    loss.backward()\n",
    "    optimizer.step()\n",
    "    \n",
    "    if (epoch + 1) % 100 == 0:\n",
    "        print(f'Epoch [{epoch + 1}/{epochs}], Loss: {loss.item():.4f}')\n",
    "\n",
    "print(\"Training finished.\")\n",
    "\n",
    "# Evaluation on the test set\n",
    "model.eval()\n",
    "with torch.no_grad():\n",
    "    test_outputs = model(inputs_test).squeeze()\n",
    "    test_loss = mean_squared_error(targets_test.numpy(), test_outputs.numpy())\n",
    "    print(f'Test Loss (MSE): {test_loss:.4f}')\n"
   ]
  },
  {
   "cell_type": "code",
   "execution_count": 25,
   "id": "a1094f3d-2376-4b95-95d2-b8d1f2a2bbe0",
   "metadata": {},
   "outputs": [
    {
     "name": "stdout",
     "output_type": "stream",
     "text": [
      "0.005631403532955298 0.0017233792135220112\n"
     ]
    },
    {
     "data": {
      "text/plain": [
       "<matplotlib.legend.Legend at 0x7f65ef7aaf00>"
      ]
     },
     "execution_count": 25,
     "metadata": {},
     "output_type": "execute_result"
    },
    {
     "data": {
      "image/png": "[encoded data removed]",
      "text/plain": [
       "<Figure size 640x480 with 1 Axes>"
      ]
     },
     "metadata": {},
     "output_type": "display_data"
    }
   ],
   "source": [
    "\n",
    "pred = test_outputs\n",
    "obj = targets_test.detach().cpu().numpy().T\n",
    "\n",
    "\n",
    "\n",
    "exp = np.sqrt(np.dot(pred, pred) / len(pred))\n",
    "real = (np.dot(pred, obj) / len(pred)) / exp\n",
    "\n",
    "print(exp, real)\n",
    "\n",
    "obj_sort = np.argsort(obj)\n",
    "plt.plot(np.cumsum(pred[obj_sort]), label=\"pred\")\n",
    "plt.plot(np.cumsum(obj[obj_sort]), label=\"obj\")\n",
    "\n",
    "plt.legend()"
   ]
  },
  {
   "cell_type": "code",
   "execution_count": null,
   "id": "7bcc15b1-bf06-4a77-a8fd-7d2c89f165cd",
   "metadata": {},
   "outputs": [],
   "source": []
  }
 ],
 "metadata": {
  "kernelspec": {
   "display_name": "Python 3 (ipykernel)",
   "language": "python",
   "name": "python3"
  },
  "language_info": {
   "codemirror_mode": {
    "name": "ipython",
    "version": 3
   },
   "file_extension": ".py",
   "mimetype": "text/x-python",
   "name": "python",
   "nbconvert_exporter": "python",
   "pygments_lexer": "ipython3",
   "version": "3.12.4"
  }
 },
 "nbformat": 4,
 "nbformat_minor": 5
}
